{
 "cells": [
  {
   "cell_type": "code",
   "execution_count": 5,
   "id": "47417901-8ec3-481d-8c6b-641c4f5dc9b8",
   "metadata": {},
   "outputs": [
    {
     "name": "stdout",
     "output_type": "stream",
     "text": [
      "   total_bill   tip     sex smoker  day    time  size\n",
      "0       16.99  1.01  Female     No  Sun  Dinner     2\n",
      "1       10.34  1.66    Male     No  Sun  Dinner     3\n",
      "2       21.01  3.50    Male     No  Sun  Dinner     3\n",
      "3       23.68  3.31    Male     No  Sun  Dinner     2\n",
      "4       24.59  3.61  Female     No  Sun  Dinner     4\n"
     ]
    }
   ],
   "source": [
    "import pandas as pd\n",
    "df = pd.read_csv(\"https://raw.githubusercontent.com/mwaskom/seaborn-data/master/tips.csv\") # load a sample data set #\n",
    "print (df.head())"
   ]
  },
  {
   "cell_type": "markdown",
   "id": "45bb936c-48d8-4a80-a5fa-c72149fa6157",
   "metadata": {},
   "source": [
    "# EXPLORING THE DATA "
   ]
  },
  {
   "cell_type": "code",
   "execution_count": 11,
   "id": "7f82ae57-f6b9-4255-bbfc-ee284d2f2f47",
   "metadata": {},
   "outputs": [
    {
     "name": "stdout",
     "output_type": "stream",
     "text": [
      "shape (244, 7)\n"
     ]
    }
   ],
   "source": [
    "# Get the number or rows and columns\n",
    "print( 'shape' , df.shape)"
   ]
  },
  {
   "cell_type": "code",
   "execution_count": 13,
   "id": "d5edc259-e015-489e-928d-a859f8f2d857",
   "metadata": {},
   "outputs": [
    {
     "name": "stdout",
     "output_type": "stream",
     "text": [
      "<class 'pandas.core.frame.DataFrame'>\n",
      "RangeIndex: 244 entries, 0 to 243\n",
      "Data columns (total 7 columns):\n",
      " #   Column      Non-Null Count  Dtype  \n",
      "---  ------      --------------  -----  \n",
      " 0   total_bill  244 non-null    float64\n",
      " 1   tip         244 non-null    float64\n",
      " 2   sex         244 non-null    object \n",
      " 3   smoker      244 non-null    object \n",
      " 4   day         244 non-null    object \n",
      " 5   time        244 non-null    object \n",
      " 6   size        244 non-null    int64  \n",
      "dtypes: float64(2), int64(1), object(4)\n",
      "memory usage: 13.5+ KB\n",
      "None\n"
     ]
    }
   ],
   "source": [
    "# show data types , missing values , and memory usage\n",
    "print (df.info())"
   ]
  },
  {
   "cell_type": "markdown",
   "id": "af876116-fc70-49c1-9ad1-ab788f2a76cf",
   "metadata": {},
   "source": [
    "# Filtering and Sorting the Data"
   ]
  },
  {
   "cell_type": "code",
   "execution_count": 18,
   "id": "19b85f13-a145-4096-91a1-331ca3729fb6",
   "metadata": {},
   "outputs": [
    {
     "name": "stdout",
     "output_type": "stream",
     "text": [
      "     total_bill   tip     sex smoker  day    time  size\n",
      "2         21.01  3.50    Male     No  Sun  Dinner     3\n",
      "3         23.68  3.31    Male     No  Sun  Dinner     2\n",
      "4         24.59  3.61  Female     No  Sun  Dinner     4\n",
      "5         25.29  4.71    Male     No  Sun  Dinner     4\n",
      "7         26.88  3.12    Male     No  Sun  Dinner     4\n",
      "..          ...   ...     ...    ...  ...     ...   ...\n",
      "237       32.83  1.17    Male    Yes  Sat  Dinner     2\n",
      "238       35.83  4.67  Female     No  Sat  Dinner     3\n",
      "239       29.03  5.92    Male     No  Sat  Dinner     3\n",
      "240       27.18  2.00  Female    Yes  Sat  Dinner     2\n",
      "241       22.67  2.00    Male    Yes  Sat  Dinner     2\n",
      "\n",
      "[97 rows x 7 columns]\n"
     ]
    }
   ],
   "source": [
    "# Show all the rows where total bill is greater than 20\n",
    "filtered_df = df[df['total_bill'] > 20]\n",
    "print (filtered_df)"
   ]
  },
  {
   "cell_type": "code",
   "execution_count": 20,
   "id": "0bf0b0f0-5f39-4c6d-8eb6-1f64e4de8391",
   "metadata": {},
   "outputs": [
    {
     "name": "stdout",
     "output_type": "stream",
     "text": [
      "     total_bill    tip     sex smoker   day    time  size\n",
      "23        39.42   7.58    Male     No   Sat  Dinner     4\n",
      "44        30.40   5.60    Male     No   Sun  Dinner     4\n",
      "47        32.40   6.00    Male     No   Sun  Dinner     4\n",
      "52        34.81   5.20  Female     No   Sun  Dinner     4\n",
      "59        48.27   6.73    Male     No   Sat  Dinner     4\n",
      "85        34.83   5.17  Female     No  Thur   Lunch     4\n",
      "88        24.71   5.85    Male     No  Thur   Lunch     2\n",
      "116       29.93   5.07    Male     No   Sun  Dinner     4\n",
      "141       34.30   6.70    Male     No  Thur   Lunch     6\n",
      "155       29.85   5.14  Female     No   Sun  Dinner     5\n",
      "170       50.81  10.00    Male    Yes   Sat  Dinner     3\n",
      "172        7.25   5.15    Male    Yes   Sun  Dinner     2\n",
      "181       23.33   5.65    Male    Yes   Sun  Dinner     2\n",
      "183       23.17   6.50    Male    Yes   Sun  Dinner     4\n",
      "211       25.89   5.16    Male    Yes   Sat  Dinner     4\n",
      "212       48.33   9.00    Male     No   Sat  Dinner     4\n",
      "214       28.17   6.50  Female    Yes   Sat  Dinner     3\n",
      "239       29.03   5.92    Male     No   Sat  Dinner     3\n"
     ]
    }
   ],
   "source": [
    "# show all the rows where tip is greater than 5 \n",
    "filtered_dff = df[df[ 'tip'] > 5 ]\n",
    "print (filtered_dff)"
   ]
  },
  {
   "cell_type": "code",
   "execution_count": 40,
   "id": "6c1249d0-43b7-42b1-b490-19ed035233d4",
   "metadata": {},
   "outputs": [
    {
     "name": "stdout",
     "output_type": "stream",
     "text": [
      "     total_bill    tip     sex smoker   day    time  size\n",
      "67         3.07   1.00  Female    Yes   Sat  Dinner     1\n",
      "236       12.60   1.00    Male    Yes   Sat  Dinner     2\n",
      "92         5.75   1.00  Female    Yes   Fri  Dinner     2\n",
      "111        7.25   1.00  Female     No   Sat  Dinner     1\n",
      "0         16.99   1.01  Female     No   Sun  Dinner     2\n",
      "..          ...    ...     ...    ...   ...     ...   ...\n",
      "141       34.30   6.70    Male     No  Thur   Lunch     6\n",
      "59        48.27   6.73    Male     No   Sat  Dinner     4\n",
      "23        39.42   7.58    Male     No   Sat  Dinner     4\n",
      "212       48.33   9.00    Male     No   Sat  Dinner     4\n",
      "170       50.81  10.00    Male    Yes   Sat  Dinner     3\n",
      "\n",
      "[244 rows x 7 columns]\n"
     ]
    }
   ],
   "source": [
    "# sort the data by tip in ascending order\n",
    "sorted_df = df.sort_values( by='tip',ascending=True)\n",
    "print(sorted_df)"
   ]
  },
  {
   "cell_type": "markdown",
   "id": "2109a965-76df-49c1-acd8-581bb00fa211",
   "metadata": {},
   "source": [
    "# Grouping and Aggregation"
   ]
  },
  {
   "cell_type": "code",
   "execution_count": 53,
   "id": "3f73faf7-b699-4e8b-80f7-f84874647427",
   "metadata": {},
   "outputs": [
    {
     "name": "stdout",
     "output_type": "stream",
     "text": [
      "sex\n",
      "Female    2.833448\n",
      "Male      3.089618\n",
      "Name: tip, dtype: float64\n"
     ]
    }
   ],
   "source": [
    "# Average tip by gender\n",
    "print(df.groupby('sex')['tip'].mean())"
   ]
  },
  {
   "cell_type": "code",
   "execution_count": 55,
   "id": "b0316dcb-a2d5-48a3-9987-005d23e9adce",
   "metadata": {},
   "outputs": [
    {
     "name": "stdout",
     "output_type": "stream",
     "text": [
      "day\n",
      "Fri      325.88\n",
      "Sat     1778.40\n",
      "Sun     1627.16\n",
      "Thur    1096.33\n",
      "Name: total_bill, dtype: float64\n"
     ]
    }
   ],
   "source": [
    "# calculate total bill which is colleted on each day\n",
    "total_bill_by_day = df.groupby('day')['total_bill'].sum()\n",
    "print(total_bill_by_day)"
   ]
  },
  {
   "cell_type": "markdown",
   "id": "70a67a5a-7013-4b73-bb5c-32166a28e99c",
   "metadata": {},
   "source": [
    "# Checking for Missing Data"
   ]
  },
  {
   "cell_type": "code",
   "execution_count": 58,
   "id": "88a98965-9886-40ef-9db5-f68c776a2bc8",
   "metadata": {},
   "outputs": [
    {
     "name": "stdout",
     "output_type": "stream",
     "text": [
      " Missing Values  total_bill    0\n",
      "tip           0\n",
      "sex           0\n",
      "smoker        0\n",
      "day           0\n",
      "time          0\n",
      "size          0\n",
      "dtype: int64\n"
     ]
    }
   ],
   "source": [
    "missing_values = df.isnull().sum()\n",
    "print(\" Missing Values \", missing_values)"
   ]
  },
  {
   "cell_type": "markdown",
   "id": "0a45086a-5204-4e9e-9571-d5c4fc307001",
   "metadata": {},
   "source": [
    "# Create New Columns"
   ]
  },
  {
   "cell_type": "code",
   "execution_count": 85,
   "id": "0d786689-d3fa-4e31-b32a-94eaa256852c",
   "metadata": {},
   "outputs": [
    {
     "name": "stdout",
     "output_type": "stream",
     "text": [
      "   total_bill   tip  tip_percent\n",
      "0       16.99  1.01     5.944673\n",
      "1       10.34  1.66    16.054159\n",
      "2       21.01  3.50    16.658734\n",
      "3       23.68  3.31    13.978041\n",
      "4       24.59  3.61    14.680765\n"
     ]
    }
   ],
   "source": [
    "# create new column for the tip percent\n",
    "df['tip_percent'] = (df['tip'] / df['total_bill']) * 100\n",
    "print(df[['total_bill', 'tip', 'tip_percent']].head())\n",
    "\n",
    "                     "
   ]
  },
  {
   "cell_type": "markdown",
   "id": "2b04d2df-ff99-41aa-b407-ab9e3a704fd1",
   "metadata": {},
   "source": [
    "# Saving the Clean / Modified Data"
   ]
  },
  {
   "cell_type": "code",
   "execution_count": 90,
   "id": "ad56775e-6920-4a88-9e3d-9e2987d15e79",
   "metadata": {},
   "outputs": [],
   "source": [
    "df.to_csv(\"clean tips data.csv\" , index = False)"
   ]
  },
  {
   "cell_type": "code",
   "execution_count": null,
   "id": "a52a0f6d-d7d8-4f0c-8499-bf2f964ffecf",
   "metadata": {},
   "outputs": [],
   "source": []
  }
 ],
 "metadata": {
  "kernelspec": {
   "display_name": "Python [conda env:base] *",
   "language": "python",
   "name": "conda-base-py"
  },
  "language_info": {
   "codemirror_mode": {
    "name": "ipython",
    "version": 3
   },
   "file_extension": ".py",
   "mimetype": "text/x-python",
   "name": "python",
   "nbconvert_exporter": "python",
   "pygments_lexer": "ipython3",
   "version": "3.12.7"
  }
 },
 "nbformat": 4,
 "nbformat_minor": 5
}
